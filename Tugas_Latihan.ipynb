{
  "nbformat": 4,
  "nbformat_minor": 0,
  "metadata": {
    "colab": {
      "provenance": [],
      "include_colab_link": true
    },
    "kernelspec": {
      "name": "python3",
      "display_name": "Python 3"
    },
    "language_info": {
      "name": "python"
    }
  },
  "cells": [
    {
      "cell_type": "markdown",
      "metadata": {
        "id": "view-in-github",
        "colab_type": "text"
      },
      "source": [
        "<a href=\"https://colab.research.google.com/github/Rexxza/enkapsulasi/blob/main/Tugas_Latihan.ipynb\" target=\"_parent\"><img src=\"https://colab.research.google.com/assets/colab-badge.svg\" alt=\"Open In Colab\"/></a>"
      ]
    },
    {
      "cell_type": "markdown",
      "source": [
        "Sebuah start-up GoPay merupakan perusahaan vintage yang menjadi alat pembayaran aplikasi marketplace dan lainnya. Anda seorang programmer yang ditugaskan untuk membuat aplikasi GoPay yang memiliki sebuah class bernama AkunGopay, yang memiliki atribut no_hp, nama dan saldo, dimana semua atribut bersifat private, demi keamanan.\n",
        "\n",
        "\n",
        "Pengguna bisa mendaftar akun GoPay dengan no_hp dan nama saja, namun juga bisa mendaftar dengan no_hp, nama dan saldo. Jika mendaftar dengan no_hp dan nama saja maka saldo otomatis bernilai 0.\n",
        "\n",
        "\n",
        "Class AkunGopay harus menyediakan fungsi yang dapat diakses oleh Marketplace untuk melakukan transaksi, yaitu :\n",
        "\n",
        "1.   topUp(), yang digunakan untuk menambahkan saldo\n",
        "2.   bayarTransaksi(), yang mengurangi saldo ketika melakukan transaksi\n",
        "3.   getSaldo(), untuk mengetahui jumlah saldo\n",
        "\n",
        "\n",
        "\n",
        "Teman Anda adalah seorang programer yang bekerja di sebuah start-up terkemuka Tokopedia yang bekerjasama dengan start-up keuangan GoPay. Anda ditugaskan membuat apikasi yang memiliki class AkunToped, dan memiliki atribut nama dan nomer_hp.\n",
        "\n",
        "Class AkunToped harus menyediakan fungsi yang untuk melakukan transaksi, yaitu:\n",
        "\n",
        "1. transaksi(), yang digunakan untuk mengurangi saldo Gopay dengan paramater nominal transaksi.\n",
        "2. getSaldo(), untuk mengetahui jumlah saldo Gopay.\n",
        "\n"
      ],
      "metadata": {
        "id": "NOQKwrfHB4pv"
      }
    },
    {
      "cell_type": "code",
      "execution_count": 1,
      "metadata": {
        "id": "peDTMz-5kxlh"
      },
      "outputs": [],
      "source": [
        "class Akungopay:\n",
        "  def __init__(self, no_hp, nama, saldo = 0):\n",
        "    self.__no_hp = no_hp\n",
        "    self.__nama = nama\n",
        "    self.__saldo = saldo\n",
        "\n",
        "  def get_no_hp(self):\n",
        "    return self.__no_hp\n",
        "\n",
        "  def set_no_hp(self, no_hp):\n",
        "    self.__no_hp = no_hp\n",
        "\n",
        "  def get_nama(self):\n",
        "    return self.__nama\n",
        "\n",
        "  def set_nama(self, nama):\n",
        "    self.__nama = nama\n",
        "\n",
        "  def get_saldo(self):\n",
        "    return self.__saldo\n",
        "\n",
        "  def set_saldo(self, saldo):\n",
        "    self.__saldo = saldo\n",
        "\n",
        "  def topUp(self, jml_setor):\n",
        "    self.__saldo = self.__saldo + jml_setor\n",
        "    return self.__saldo\n",
        "\n",
        "  def bayartransaksi(self, jml_tarik):\n",
        "    if jml_tarik <= self.__saldo:\n",
        "       self.__saldo -= jml_tarik\n",
        "    else:\n",
        "      print(\"saldo anda kurang\")\n",
        "\n",
        "  def get_saldo(self):\n",
        "    return self.__saldo\n",
        "\n",
        "#======================================================================================================\n",
        "class AkunToped:\n",
        "  def __init__(self, nama, no_hp):\n",
        "    self.__nama = nama\n",
        "    self.__no_hp = no_hp\n",
        "\n",
        "  def transaksi(self, gopay, nominal):\n",
        "    if gopay.get_saldo() >= nominal:\n",
        "      gopay.bayartransaksi(nominal)\n",
        "    else:\n",
        "      print(\"saldo anda tidak cukup\")\n",
        "\n",
        "  def get_saldo(self, gopay):\n",
        "    return gopay.get_saldo()"
      ]
    },
    {
      "cell_type": "code",
      "source": [
        "#Main Program\n",
        "user1 = Akungopay(81232, \"Rexza\", 80000000)\n",
        "\n",
        "print(\"halo\", user1.get_nama())\n",
        "print(\"nomor anda:\", user1.get_no_hp())\n",
        "print(\"saldo anda :\", user1.get_saldo())\n",
        "print(\"saldo anda sekarang :\", user1.topUp(10000000))\n",
        "user1.bayartransaksi(50000000)\n",
        "print(\"saldo anda setelah menarik :\", user1.get_saldo())\n",
        "\n",
        "user_tokped = AkunToped(\"Rexza\", 81232)\n",
        "user_tokped.transaksi(user1, 20000000)\n",
        "print(\"saldo anda sekarang :\", user_tokped.get_saldo(user1))"
      ],
      "metadata": {
        "id": "eitzekkYkycQ",
        "outputId": "7d376a19-e6db-40e2-d4a6-cac3975520ad",
        "colab": {
          "base_uri": "https://localhost:8080/"
        }
      },
      "execution_count": 3,
      "outputs": [
        {
          "output_type": "stream",
          "name": "stdout",
          "text": [
            "halo Rexza\n",
            "nomor anda: 81232\n",
            "saldo anda : 80000000\n",
            "saldo anda sekarang : 90000000\n",
            "saldo anda setelah menarik : 40000000\n",
            "saldo anda sekarang : 20000000\n"
          ]
        }
      ]
    }
  ]
}