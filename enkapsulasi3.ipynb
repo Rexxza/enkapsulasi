{
  "nbformat": 4,
  "nbformat_minor": 0,
  "metadata": {
    "colab": {
      "provenance": [],
      "authorship_tag": "ABX9TyOeNX27JESVmBZaaEsxKxFG",
      "include_colab_link": true
    },
    "kernelspec": {
      "name": "python3",
      "display_name": "Python 3"
    },
    "language_info": {
      "name": "python"
    }
  },
  "cells": [
    {
      "cell_type": "markdown",
      "metadata": {
        "id": "view-in-github",
        "colab_type": "text"
      },
      "source": [
        "<a href=\"https://colab.research.google.com/github/Rexxza/enkapsulasi/blob/main/enkapsulasi3.ipynb\" target=\"_parent\"><img src=\"https://colab.research.google.com/assets/colab-badge.svg\" alt=\"Open In Colab\"/></a>"
      ]
    },
    {
      "cell_type": "code",
      "execution_count": 29,
      "metadata": {
        "id": "6ZkyKdxggtYV"
      },
      "outputs": [],
      "source": [
        "class RekeningBank:\n",
        "  def __init__(self, namanasabah, saldo, jumlah):\n",
        "    self.__namanasabah = namanasabah\n",
        "    self.__saldo = saldo\n",
        "    self.__jumlah = jumlah\n",
        "\n",
        "  def get_saldo(self):\n",
        "    return self.__saldo\n",
        "\n",
        "  def set_saldo(self, saldo):\n",
        "    self.__saldo = saldo\n",
        "\n",
        "  def get_namanasabah(self):\n",
        "    return self.__namanasabah\n",
        "\n",
        "  def set_namanasabah(self, namanasabah):\n",
        "    self.__namanasabah = namanasabah\n",
        "\n",
        "  def transfer(self):\n",
        "    return self.__saldo + self.__jumlah\n",
        "\n",
        "  def tarik(self):\n",
        "    if self.__jumlah <= self.__saldo:\n",
        "      return self.__saldo - self.__jumlah\n",
        "    else:\n",
        "      print(\"saldo anda tidak cukup\")"
      ]
    },
    {
      "cell_type": "code",
      "source": [
        "nasabah1 = RekeningBank(\"Rexza\", 800000000, 200000000)\n",
        "\n",
        "print(f\"Nama Nasabah : {nasabah1.get_namanasabah()}\")\n",
        "print(f\"Transfer Saldo : {nasabah1.get_saldo()}\")\n",
        "\n",
        "print(\"========================================\")\n",
        "nasabah1.set_namanasabah('Maya')\n",
        "print(f\"Nama Nasabah : {nasabah1.get_namanasabah()}\")\n",
        "nasabah1.set_saldo(400000000)\n",
        "print(f\"Transfer Saldo : {nasabah1.get_saldo()}\")\n",
        "\n",
        "print(\"========================================\")\n",
        "nasabah1.set_namanasabah('Fika')\n",
        "print(f\"Nama Nasabah : {nasabah1.get_namanasabah()}\")\n",
        "nasabah1.set_saldo(500000000)\n",
        "print(f\"Transfer Saldo : {nasabah1.get_saldo()}\")\n",
        "\n",
        "print(f\"Total Saldo Setelah Disetor : {nasabah1.transfer()}\")\n",
        "print(f\"Sisa Saldo : {nasabah1.tarik()}\")"
      ],
      "metadata": {
        "id": "pa-CJ40N9RMr",
        "outputId": "e74c8bec-d220-47f8-8b61-0620d33c764d",
        "colab": {
          "base_uri": "https://localhost:8080/"
        }
      },
      "execution_count": 31,
      "outputs": [
        {
          "output_type": "stream",
          "name": "stdout",
          "text": [
            "Nama Nasabah : Rexza\n",
            "Transfer Saldo : 800000000\n",
            "========================================\n",
            "Nama Nasabah : Maya\n",
            "Transfer Saldo : 400000000\n",
            "========================================\n",
            "Nama Nasabah : Fika\n",
            "Transfer Saldo : 500000000\n",
            "Total Saldo Setelah Disetor : 700000000\n",
            "Sisa Saldo : 300000000\n"
          ]
        }
      ]
    }
  ]
}